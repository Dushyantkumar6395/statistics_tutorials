{
 "cells": [
  {
   "cell_type": "code",
   "execution_count": 1,
   "id": "a12d751a-070a-4148-b637-ad78b842fda0",
   "metadata": {},
   "outputs": [],
   "source": [
    "# Q1. What are the three measures of central tendency?\n",
    "# Answer:\n",
    "# Mean\n",
    "# Median\n",
    "# Mode"
   ]
  },
  {
   "cell_type": "code",
   "execution_count": 8,
   "id": "5cc18adc-7731-4248-a88e-1f782e61d530",
   "metadata": {},
   "outputs": [
    {
     "name": "stdout",
     "output_type": "stream",
     "text": [
      "3.2\n",
      "3.0\n",
      "ModeResult(mode=array([1]), count=array([2]))\n"
     ]
    },
    {
     "name": "stderr",
     "output_type": "stream",
     "text": [
      "/tmp/ipykernel_665/2040113616.py:11: FutureWarning: Unlike other reduction functions (e.g. `skew`, `kurtosis`), the default behavior of `mode` typically preserves the axis it acts along. In SciPy 1.11.0, this behavior will change: the default value of `keepdims` will become False, the `axis` over which the statistic is taken will be eliminated, and the value None will no longer be accepted. Set `keepdims` to True or False to avoid this warning.\n",
      "  print(stats.mode(x))\n"
     ]
    }
   ],
   "source": [
    "# Q2. What is the difference between the mean, median, and mode? How are they used to measure the\n",
    "#     central tendency of a dataset?\n",
    "# Answer:\n",
    "# The average taken for a set of numbers is called a mean.The middlevalue in the data set is called the Median.\n",
    "#  The number that occurs the most in a given list of numbers is called a mode.\n",
    "import numpy as np\n",
    "from scipy import stats\n",
    "x = [1,1,2,2,3,3,4,5,5,6]\n",
    "print(np.mean(x))\n",
    "print(np.median(x))\n",
    "print(stats.mode(x))"
   ]
  },
  {
   "cell_type": "code",
   "execution_count": 12,
   "id": "41cf3bf7-52d8-4913-9866-d8377f7985ec",
   "metadata": {},
   "outputs": [
    {
     "name": "stdout",
     "output_type": "stream",
     "text": [
      "177.01875\n",
      "177.0\n",
      "ModeResult(mode=array([177.]), count=array([3]))\n"
     ]
    },
    {
     "name": "stderr",
     "output_type": "stream",
     "text": [
      "/tmp/ipykernel_665/865056735.py:8: FutureWarning: Unlike other reduction functions (e.g. `skew`, `kurtosis`), the default behavior of `mode` typically preserves the axis it acts along. In SciPy 1.11.0, this behavior will change: the default value of `keepdims` will become False, the `axis` over which the statistic is taken will be eliminated, and the value None will no longer be accepted. Set `keepdims` to True or False to avoid this warning.\n",
      "  print(stats.mode(a))\n"
     ]
    }
   ],
   "source": [
    "# Q3. Measure the three measures of central tendency for the given height data:\n",
    "#  [178,177,176,177,178.2,178,175,179,180,175,178.9,176.2,177,172.5,178,176.5]\n",
    "import numpy as np\n",
    "from scipy import stats\n",
    "a = [178,177,176,177,178.2,178,175,179,180,175,178.9,176.2,177,172.5,178,176.5]\n",
    "print(np.mean(a))\n",
    "print(np.median(a))\n",
    "print(stats.mode(a))"
   ]
  },
  {
   "cell_type": "code",
   "execution_count": 13,
   "id": "c0a1eb41-03ba-4e9d-94df-d5cf7b764313",
   "metadata": {},
   "outputs": [
    {
     "data": {
      "text/plain": [
       "1.7885814036548633"
      ]
     },
     "execution_count": 13,
     "metadata": {},
     "output_type": "execute_result"
    }
   ],
   "source": [
    "# Q4. Find the standard deviation for the given data:\n",
    "#   [178,177,176,177,178.2,178,175,179,180,175,178.9,176.2,177,172.5,178,176.5]\n",
    "import numpy as np\n",
    "b = [178,177,176,177,178.2,178,175,179,180,175,178.9,176.2,177,172.5,178,176.5]\n",
    "np.std(b)"
   ]
  },
  {
   "cell_type": "code",
   "execution_count": 24,
   "id": "50e20890-3ba3-4ce3-9108-b42931d8cc1b",
   "metadata": {},
   "outputs": [
    {
     "name": "stdout",
     "output_type": "stream",
     "text": [
      "Variance\n",
      "0    766.333333\n",
      "1    484.000000\n",
      "2    161.333333\n",
      "dtype: float64\n",
      "Standard deviation\n",
      "0    27.682726\n",
      "1    22.000000\n",
      "2    12.701706\n",
      "dtype: float64\n"
     ]
    }
   ],
   "source": [
    "# Q5. How are measures of dispersion such as range, variance, and standard deviation used to describe\n",
    "#     the spread of a dataset? Provide an example.\n",
    "# Answer:\n",
    "import pandas as pd\n",
    "data = [[12,34,45],[45,56,67],[67,78,45]]\n",
    "df=pd.DataFrame(data)\n",
    "print(\"Variance\")\n",
    "print(df.var())\n",
    "print(\"Standard deviation\")\n",
    "print(df.std())"
   ]
  },
  {
   "cell_type": "code",
   "execution_count": 25,
   "id": "c0da8b37-f47c-47fd-b365-ec6d0defd08c",
   "metadata": {},
   "outputs": [],
   "source": [
    "# Q6. What is a Venn diagram?\n",
    "# Answer:\n",
    "# a diagram representing mathematical or logical sets pictorially as circles or closed curves within\n",
    "# an enclosing rectangle (the universal set), common elements of the sets being represented by intersections\n",
    "# of the circles."
   ]
  },
  {
   "cell_type": "code",
   "execution_count": 1,
   "id": "fc0fbd7b-9146-4c72-837b-6cc024683620",
   "metadata": {},
   "outputs": [],
   "source": [
    "# Q7. For the two given sets A = (2,3,4,5,6,7) & B = (0,2,6,8,10). Find:\n",
    "# (i)  A union B\n",
    "# (ii)\tA ⋃ B\n",
    "# Answer:\n",
    "# (i) union is (0,2,2,3,4,5,6,6,7,8,10)\n",
    "# (ii) intersection is (2,6)"
   ]
  },
  {
   "cell_type": "code",
   "execution_count": 2,
   "id": "4250a4eb-bb64-42a3-9ecc-a51bb0920c38",
   "metadata": {},
   "outputs": [],
   "source": [
    "# Q8. What do you understand about skewness in data?\n",
    "# Answer:\n",
    "# Skewness is a measure of the asymmetry of a distribution. A distribution is asymmetrical when its left and right side are not mirror images. \n",
    "# You might want to calculate the skewness of a distribution to: Describe the distribution of a variable alongside other descriptive statistics.\n",
    "# "
   ]
  },
  {
   "cell_type": "code",
   "execution_count": 1,
   "id": "a54a04c5-a082-4b00-a2fa-0b0a4bd3ecc5",
   "metadata": {},
   "outputs": [],
   "source": [
    "# Q9. If a data is right skewed then what will be the position of median with respect to mean?\n",
    "# Answer:\n",
    "# mean>=median"
   ]
  },
  {
   "cell_type": "code",
   "execution_count": 2,
   "id": "d21a2bd6-c9a9-4cb5-8f89-2b5affd7b887",
   "metadata": {},
   "outputs": [],
   "source": [
    "# Q10. Explain the difference between covariance and correlation. How are these measures used in statistical analysis?\n",
    "# Answer:\n",
    "# Both covariance and correlation measure the relationship and the dependency between two variables. Covariance indicates the direction of the linear relationship\n",
    "# between variables. Correlation measures both the strength and direction of the linear relationship between two variables. Correlation values are standardized"
   ]
  },
  {
   "cell_type": "code",
   "execution_count": 5,
   "id": "ff07e32e-3e3d-4c1e-90b7-176ae61aad29",
   "metadata": {},
   "outputs": [
    {
     "name": "stdout",
     "output_type": "stream",
     "text": [
      "3.2\n"
     ]
    }
   ],
   "source": [
    "# Q11. What is the formula for calculating the sample mean? Provide an example calculation for a dataset.\n",
    "# Answer:\n",
    "#   The general sample mean formula for calculating the sample mean is expressed as x̄ = ( Σ xi ) ÷ n. Here, x̄ denotes the average value of the samples or\n",
    "#    sample mean, xi refers all X sample values and 'n' stands for the number of sample terms in the given data.\n",
    "import numpy as np\n",
    "x = (1,1,2,2,3,3,4,5,5,6)\n",
    "print(np.mean(x))\n"
   ]
  },
  {
   "cell_type": "code",
   "execution_count": 6,
   "id": "147597ab-fc1d-4e27-9684-e7318bf99c2f",
   "metadata": {},
   "outputs": [],
   "source": [
    "# Q12. For a normal distribution data what is the relationship between its measure of central tendency?\n",
    "# Answer:\n",
    "# Mean=Median=Mode"
   ]
  },
  {
   "cell_type": "code",
   "execution_count": 7,
   "id": "37a9371a-d182-437c-abd0-5de0b25b3979",
   "metadata": {},
   "outputs": [],
   "source": [
    "# Q13. How is covariance different from correlation?\n",
    "# Answer:\n",
    "#   Both covariance and correlation measure the relationship and the dependency between two variables. Covariance indicates the direction of the linear\n",
    "#   relationship between variables. Correlation measures both the strength and direction of the linear relationship between two variables"
   ]
  },
  {
   "cell_type": "code",
   "execution_count": 9,
   "id": "8206e714-5a4e-4adc-9404-9bfe1fe45514",
   "metadata": {},
   "outputs": [
    {
     "name": "stdout",
     "output_type": "stream",
     "text": [
      "41.416666666666664\n",
      "44.0\n",
      "ModeResult(mode=array([45]), count=array([2]))\n",
      "53.61538461538461\n",
      "45.0\n",
      "ModeResult(mode=array([45]), count=array([2]))\n"
     ]
    },
    {
     "name": "stderr",
     "output_type": "stream",
     "text": [
      "/tmp/ipykernel_76/3869723605.py:8: FutureWarning: Unlike other reduction functions (e.g. `skew`, `kurtosis`), the default behavior of `mode` typically preserves the axis it acts along. In SciPy 1.11.0, this behavior will change: the default value of `keepdims` will become False, the `axis` over which the statistic is taken will be eliminated, and the value None will no longer be accepted. Set `keepdims` to True or False to avoid this warning.\n",
      "  print(stats.mode(age))\n",
      "/tmp/ipykernel_76/3869723605.py:12: FutureWarning: Unlike other reduction functions (e.g. `skew`, `kurtosis`), the default behavior of `mode` typically preserves the axis it acts along. In SciPy 1.11.0, this behavior will change: the default value of `keepdims` will become False, the `axis` over which the statistic is taken will be eliminated, and the value None will no longer be accepted. Set `keepdims` to True or False to avoid this warning.\n",
      "  print(stats.mode(age))\n"
     ]
    }
   ],
   "source": [
    "# Q14. How do outliers affect measures of central tendency and dispersion? Provide an example.\n",
    "# Answer:\n",
    "import numpy as np\n",
    "from scipy import stats\n",
    "age = [12,21,23,45,65,43,56,45,32,67,54,34]\n",
    "print(np.mean(age))\n",
    "print(np.median(age))\n",
    "print(stats.mode(age))\n",
    "age = [12,21,23,45,65,43,56,45,32,67,54,34,200]\n",
    "print(np.mean(age))\n",
    "print(np.median(age))\n",
    "print(stats.mode(age))"
   ]
  },
  {
   "cell_type": "code",
   "execution_count": null,
   "id": "74a4835e-5734-4274-8b8a-ebcac7a9112d",
   "metadata": {},
   "outputs": [],
   "source": []
  }
 ],
 "metadata": {
  "kernelspec": {
   "display_name": "Python 3 (ipykernel)",
   "language": "python",
   "name": "python3"
  },
  "language_info": {
   "codemirror_mode": {
    "name": "ipython",
    "version": 3
   },
   "file_extension": ".py",
   "mimetype": "text/x-python",
   "name": "python",
   "nbconvert_exporter": "python",
   "pygments_lexer": "ipython3",
   "version": "3.10.6"
  }
 },
 "nbformat": 4,
 "nbformat_minor": 5
}
